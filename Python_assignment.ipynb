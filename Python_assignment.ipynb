{
 "cells": [
  {
   "cell_type": "code",
   "execution_count": 3,
   "id": "5bb1fa4b-8a9a-4b70-a48f-ff33f7cd8a9f",
   "metadata": {},
   "outputs": [
    {
     "name": "stdin",
     "output_type": "stream",
     "text": [
      "Enter your score:  65\n"
     ]
    },
    {
     "name": "stdout",
     "output_type": "stream",
     "text": [
      "Grade: D\n"
     ]
    }
   ],
   "source": [
    "score = int(input(\"Enter your score: \"))\n",
    "\n",
    "if score >= 90:\n",
    "    print(\"Grade: A\")\n",
    "elif score >= 80:\n",
    "    print(\"Grade: B\")\n",
    "elif score >= 70:\n",
    "    print(\"Grade: C\")\n",
    "elif score >= 60:\n",
    "    print(\"Grade: D\")\n",
    "else:\n",
    "    print(\"Grade: F\")\n"
   ]
  },
  {
   "cell_type": "code",
   "execution_count": 7,
   "id": "a00b5ada-aab2-4456-adc4-353d0b6154f0",
   "metadata": {},
   "outputs": [
    {
     "name": "stdout",
     "output_type": "stream",
     "text": [
      "\n",
      "Options:\n",
      "1. Add Student\n",
      "2. Update Grade\n",
      "3. Show All\n",
      "4. Exit\n"
     ]
    },
    {
     "name": "stdin",
     "output_type": "stream",
     "text": [
      "Enter choice:  1\n",
      "Enter student name:  Ravindra\n",
      "Enter grade:  A\n"
     ]
    },
    {
     "name": "stdout",
     "output_type": "stream",
     "text": [
      "Added Ravindra with grade A\n",
      "\n",
      "Options:\n",
      "1. Add Student\n",
      "2. Update Grade\n",
      "3. Show All\n",
      "4. Exit\n"
     ]
    },
    {
     "name": "stdin",
     "output_type": "stream",
     "text": [
      "Enter choice:  2\n",
      "Enter student name to update:  Ravi\n"
     ]
    },
    {
     "name": "stdout",
     "output_type": "stream",
     "text": [
      "Student not found.\n",
      "\n",
      "Options:\n",
      "1. Add Student\n",
      "2. Update Grade\n",
      "3. Show All\n",
      "4. Exit\n"
     ]
    },
    {
     "name": "stdin",
     "output_type": "stream",
     "text": [
      "Enter choice:  3\n"
     ]
    },
    {
     "name": "stdout",
     "output_type": "stream",
     "text": [
      "Ravindra: A\n",
      "\n",
      "Options:\n",
      "1. Add Student\n",
      "2. Update Grade\n",
      "3. Show All\n",
      "4. Exit\n"
     ]
    },
    {
     "name": "stdin",
     "output_type": "stream",
     "text": [
      "Enter choice:  2\n",
      "Enter student name to update:  Ravindra\n",
      "Enter new grade:  B\n"
     ]
    },
    {
     "name": "stdout",
     "output_type": "stream",
     "text": [
      "Updated Ravindra to grade B\n",
      "\n",
      "Options:\n",
      "1. Add Student\n",
      "2. Update Grade\n",
      "3. Show All\n",
      "4. Exit\n"
     ]
    },
    {
     "name": "stdin",
     "output_type": "stream",
     "text": [
      "Enter choice:  3\n"
     ]
    },
    {
     "name": "stdout",
     "output_type": "stream",
     "text": [
      "Ravindra: B\n",
      "\n",
      "Options:\n",
      "1. Add Student\n",
      "2. Update Grade\n",
      "3. Show All\n",
      "4. Exit\n"
     ]
    },
    {
     "name": "stdin",
     "output_type": "stream",
     "text": [
      "Enter choice:  4\n"
     ]
    }
   ],
   "source": [
    "grades = {}\n",
    "\n",
    "while True:\n",
    "    print(\"\\nOptions:\\n1. Add Student\\n2. Update Grade\\n3. Show All\\n4. Exit\")\n",
    "    choice = input(\"Enter choice: \")\n",
    "\n",
    "    if choice == \"1\":\n",
    "        name = input(\"Enter student name: \")\n",
    "        grade = input(\"Enter grade: \")\n",
    "        grades[name] = grade\n",
    "        print(f\"Added {name} with grade {grade}\")\n",
    "\n",
    "    elif choice == \"2\":\n",
    "        name = input(\"Enter student name to update: \")\n",
    "        if name in grades:\n",
    "            grade = input(\"Enter new grade: \")\n",
    "            grades[name] = grade\n",
    "            print(f\"Updated {name} to grade {grade}\")\n",
    "        else:\n",
    "            print(\"Student not found.\")\n",
    "\n",
    "    elif choice == \"3\":\n",
    "        for student, grade in grades.items():\n",
    "            print(f\"{student}: {grade}\")\n",
    "\n",
    "    elif choice == \"4\":\n",
    "        break\n",
    "    else:\n",
    "        print(\"Invalid choice.\")\n"
   ]
  },
  {
   "cell_type": "code",
   "execution_count": 9,
   "id": "980c32cd-0b63-487e-93f0-574cc005db15",
   "metadata": {},
   "outputs": [
    {
     "name": "stdout",
     "output_type": "stream",
     "text": [
      "Content written to output.txt\n"
     ]
    }
   ],
   "source": [
    "with open(\"output.txt\", \"w\") as file:\n",
    "    file.write(\"Hello, this is me\")\n",
    "print(\"Content written to output.txt\")\n"
   ]
  },
  {
   "cell_type": "code",
   "execution_count": 11,
   "id": "c3528c4c-42de-4a4b-8143-7064f64a132d",
   "metadata": {},
   "outputs": [
    {
     "name": "stdout",
     "output_type": "stream",
     "text": [
      "File Content:\n",
      " Hello, this is me\n"
     ]
    }
   ],
   "source": [
    "with open(\"output.txt\", \"r\") as file:\n",
    "    content = file.read()\n",
    "    print(\"File Content:\\n\", content)\n"
   ]
  },
  {
   "cell_type": "code",
   "execution_count": null,
   "id": "80b3ce82-4793-48e9-a9e7-ebef9f43b0de",
   "metadata": {},
   "outputs": [],
   "source": []
  }
 ],
 "metadata": {
  "kernelspec": {
   "display_name": "Python 3 (ipykernel)",
   "language": "python",
   "name": "python3"
  },
  "language_info": {
   "codemirror_mode": {
    "name": "ipython",
    "version": 3
   },
   "file_extension": ".py",
   "mimetype": "text/x-python",
   "name": "python",
   "nbconvert_exporter": "python",
   "pygments_lexer": "ipython3",
   "version": "3.11.5"
  }
 },
 "nbformat": 4,
 "nbformat_minor": 5
}
